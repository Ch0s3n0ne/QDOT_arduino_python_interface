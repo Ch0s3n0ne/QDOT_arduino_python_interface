{
 "cells": [
  {
   "cell_type": "markdown",
   "metadata": {},
   "source": [
    "# Ler entrada UART"
   ]
  },
  {
   "cell_type": "code",
   "execution_count": 42,
   "metadata": {},
   "outputs": [
    {
     "name": "stdout",
     "output_type": "stream",
     "text": [
      "b'442\\r\\n'\n",
      "442\n"
     ]
    }
   ],
   "source": [
    "import serial\n",
    "ser = serial.Serial('COM9', 9600)\n",
    "#leatura da porta UART\n",
    "line=ser.readline()\n",
    "#conversão do formato de byte para string\n",
    "string = line.decode()\n",
    "#remoção dos caracteres de separação\n",
    "stripped_string=string.strip()\n",
    "#string para int\n",
    "num_int = int(stripped_string)\n",
    "ser.close()\n",
    "print(line)\n",
    "print(num_int)"
   ]
  },
  {
   "cell_type": "markdown",
   "metadata": {},
   "source": [
    "### leitura continua"
   ]
  },
  {
   "cell_type": "code",
   "execution_count": null,
   "metadata": {},
   "outputs": [],
   "source": [
    "import serial\n",
    "import time\n",
    "import matplotlib.pyplot as plt\n",
    "\n",
    "# make sure the 'COM#' is set according the Windows Device Manager\n",
    "ser = serial.Serial('COM9', 9600, timeout=1)\n",
    "time.sleep(2)\n",
    "\n",
    "data = []\n",
    "for i in range(50):\n",
    "    line = ser.readline()   # read a byte string\n",
    "    if line:\n",
    "        string = line.decode()  # convert the byte string to a unicode string\n",
    "        num = int(string) # convert the unicode string to an int\n",
    "        print(num)\n",
    "        data.append(num) # add int to data list\n",
    "ser.close()\n",
    "\n",
    "# build the plot\n",
    "plt.plot(data)\n",
    "plt.xlabel('Time')\n",
    "plt.ylabel('Potentiometer Reading')\n",
    "plt.title('Potentiometer Reading vs. Time')\n",
    "plt.show()"
   ]
  },
  {
   "cell_type": "markdown",
   "metadata": {},
   "source": [
    "# Usar python para controlar o Arduino"
   ]
  },
  {
   "cell_type": "code",
   "execution_count": 3,
   "metadata": {},
   "outputs": [],
   "source": [
    "import serial\n",
    "ser = serial.Serial('COM9', 9600, timeout=1)\n",
    "ser.write(b'H')\n",
    "ser.write(b'L')\n",
    "ser.write(b'H')\n",
    "ser.write(b'L')\n",
    "ser.close()"
   ]
  },
  {
   "cell_type": "code",
   "execution_count": 7,
   "metadata": {},
   "outputs": [],
   "source": [
    "import serial\n",
    "import time\n",
    "\n",
    "for i in range(10):\n",
    "    with serial.Serial('COM9', 9600, timeout=1) as ser:\n",
    "        time.sleep(0.5)\n",
    "        ser.write(b'H')   # send the pyte string 'H'\n",
    "        time.sleep(0.5)   # wait 0.5 seconds\n",
    "        ser.write(b'L')   # send the byte string 'L'"
   ]
  },
  {
   "cell_type": "markdown",
   "metadata": {},
   "source": [
    "## Reparar que os inputs aparecem na parte de cima do layout do vscode"
   ]
  },
  {
   "cell_type": "code",
   "execution_count": 4,
   "metadata": {},
   "outputs": [
    {
     "name": "stdout",
     "output_type": "stream",
     "text": [
      "Invalid input. Type on / off / quit.\n",
      "Invalid input. Type on / off / quit.\n",
      "LED is on...\n",
      "LED is off...\n",
      "LED is on...\n",
      "Program Exiting\n"
     ]
    }
   ],
   "source": [
    "import serial\n",
    "import time\n",
    "\n",
    "# Define the serial port and baud rate.\n",
    "# Ensure the 'COM#' corresponds to what was seen in the Windows Device Manager\n",
    "ser = serial.Serial('COM9', 9600, timeout=1)\n",
    "\n",
    "def led_on_off():\n",
    "    user_input = input(\"\\n Type on / off / quit : \")\n",
    "    if user_input ==\"on\":\n",
    "        print(\"LED is on...\")\n",
    "        time.sleep(0.1) \n",
    "        ser.write(b'H') \n",
    "        led_on_off()\n",
    "    elif user_input ==\"off\":\n",
    "        print(\"LED is off...\")\n",
    "        time.sleep(0.1)\n",
    "        ser.write(b'L')\n",
    "        led_on_off()\n",
    "    elif user_input ==\"quit\" or user_input == \"q\":\n",
    "        print(\"Program Exiting\")\n",
    "        time.sleep(0.1)\n",
    "        ser.write(b'L')\n",
    "        ser.close()\n",
    "    else:\n",
    "        print(\"Invalid input. Type on / off / quit.\")\n",
    "        led_on_off()\n",
    "\n",
    "time.sleep(2) # wait for the serial connection to initialize\n",
    "\n",
    "led_on_off()"
   ]
  },
  {
   "cell_type": "code",
   "execution_count": 9,
   "metadata": {},
   "outputs": [],
   "source": [
    "ser.close()"
   ]
  }
 ],
 "metadata": {
  "interpreter": {
   "hash": "106a3810f889e306d5f9ab206ddacd69fd689a3cc4632c1e96521e5c7d43819d"
  },
  "kernelspec": {
   "display_name": "Python 3.9.12 64-bit (windows store)",
   "language": "python",
   "name": "python3"
  },
  "language_info": {
   "codemirror_mode": {
    "name": "ipython",
    "version": 3
   },
   "file_extension": ".py",
   "mimetype": "text/x-python",
   "name": "python",
   "nbconvert_exporter": "python",
   "pygments_lexer": "ipython3",
   "version": "3.9.12"
  },
  "orig_nbformat": 4
 },
 "nbformat": 4,
 "nbformat_minor": 2
}
